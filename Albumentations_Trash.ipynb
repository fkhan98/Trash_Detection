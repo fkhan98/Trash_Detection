{
  "nbformat": 4,
  "nbformat_minor": 0,
  "metadata": {
    "colab": {
      "name": "Albumentations_Trash.ipynb",
      "provenance": [],
      "collapsed_sections": []
    },
    "kernelspec": {
      "name": "python3",
      "display_name": "Python 3"
    },
    "language_info": {
      "name": "python"
    }
  },
  "cells": [
    {
      "cell_type": "code",
      "metadata": {
        "id": "zeWQvySWeZZv"
      },
      "source": [
        "import cv2\n",
        "import albumentations as A\n",
        "import numpy as np\n",
        "from utils import plot_examples\n",
        "import os"
      ],
      "execution_count": 32,
      "outputs": []
    },
    {
      "cell_type": "code",
      "metadata": {
        "id": "fzEWSI12jFfC"
      },
      "source": [
        "#upgrading albumentations\n",
        "! pip install --upgrade albumentations"
      ],
      "execution_count": null,
      "outputs": []
    },
    {
      "cell_type": "code",
      "metadata": {
        "id": "rA53Au0ovRCK"
      },
      "source": [
        "#defining transform pipeline\n",
        "\n",
        "transform = A.Compose(\n",
        "    [\n",
        "        A.Resize(width=1920, height=1080),\n",
        "        A.RandomCrop(width=1280, height=720),\n",
        "        A.Rotate(limit=40, p=0.9, border_mode=cv2.BORDER_CONSTANT),\n",
        "        A.HorizontalFlip(p=0.5),\n",
        "        A.VerticalFlip(p=0.1),\n",
        "        A.RGBShift(r_shift_limit=25, g_shift_limit=25, b_shift_limit=25, p=0.9),\n",
        "        A.OneOf([\n",
        "            A.Blur(blur_limit=3, p=0.5),\n",
        "            A.ColorJitter(p=0.5),\n",
        "        ], p=1.0),\n",
        "    ], bbox_params=A.BboxParams(format='yolo')\n",
        ")"
      ],
      "execution_count": 22,
      "outputs": []
    },
    {
      "cell_type": "code",
      "metadata": {
        "id": "0KU_FgF7iZtA"
      },
      "source": [
        "image = cv2.imread(\"/content/images/000001_JPG.rf.ccfdd243a78a6cfa119be0349d18c0ed.jpg\")\n",
        "image = cv2.cvtColor(image, cv2.COLOR_BGR2RGB)"
      ],
      "execution_count": 17,
      "outputs": []
    },
    {
      "cell_type": "code",
      "metadata": {
        "id": "u-XyuJx1mMvV"
      },
      "source": [
        "bboxes = [\n",
        "    [0.436070, 0.141850, 0.211193, 0.0778190, 0],\n",
        "    [0.519404, 0.774969, 0.091912, 0.133885, 0],\n",
        "]"
      ],
      "execution_count": 23,
      "outputs": []
    },
    {
      "cell_type": "code",
      "metadata": {
        "id": "u-Vbloy3v0zi"
      },
      "source": [
        "images_list = [image]\n",
        "bboxes_list = [bboxes]\n",
        "count = 1\n",
        "aug_img = 'augmented'\n",
        "path = '/content/AugmentedImages'\n",
        "for i in range(15):\n",
        "    augmentations = transform(image=image, bboxes=bboxes)\n",
        "    augmented_img = augmentations[\"image\"]\n",
        "    transformed_bboxes = transformed['bboxes']\n",
        "    #aug_img_name = aug_img + str(count)\n",
        "    #cv2.imwrite(os.path.join(path , aug_img_name), augmented_img)\n",
        "    #cv2.waitKey(0)\n",
        "    images_list.append(augmented_img)\n",
        "    bboxes_list.append(transformed_bboxes)\n",
        "    count = count + 1\n",
        "plot_examples(images_list)"
      ],
      "execution_count": null,
      "outputs": []
    },
    {
      "cell_type": "code",
      "metadata": {
        "id": "Ss2udWCtxMJb"
      },
      "source": [
        "bboxes_list"
      ],
      "execution_count": null,
      "outputs": []
    },
    {
      "cell_type": "code",
      "metadata": {
        "colab": {
          "base_uri": "https://localhost:8080/"
        },
        "id": "-XPfcHSnoc3H",
        "outputId": "7c2888a9-8523-40bf-9b78-e7cd89928465"
      },
      "source": [
        "filename = 'savedImage.jpg'\n",
        "dir = \"/content/AugmentedImages\"\n",
        "  \n",
        "# Using cv2.imwrite() method\n",
        "# Saving the image\n",
        "cv2.imwrite(dir+filename, transformed_image)"
      ],
      "execution_count": 21,
      "outputs": [
        {
          "output_type": "execute_result",
          "data": {
            "text/plain": [
              "True"
            ]
          },
          "metadata": {
            "tags": []
          },
          "execution_count": 21
        }
      ]
    },
    {
      "cell_type": "code",
      "metadata": {
        "id": "oA8dTKeGq_RD"
      },
      "source": [
        ""
      ],
      "execution_count": null,
      "outputs": []
    }
  ]
}